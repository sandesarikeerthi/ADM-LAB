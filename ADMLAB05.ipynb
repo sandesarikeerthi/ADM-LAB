{
  "nbformat": 4,
  "nbformat_minor": 0,
  "metadata": {
    "colab": {
      "provenance": [],
      "authorship_tag": "ABX9TyOr0VqVcXv/btTHqbWYh/Ls",
      "include_colab_link": true
    },
    "kernelspec": {
      "name": "python3",
      "display_name": "Python 3"
    },
    "language_info": {
      "name": "python"
    }
  },
  "cells": [
    {
      "cell_type": "markdown",
      "metadata": {
        "id": "view-in-github",
        "colab_type": "text"
      },
      "source": [
        "<a href=\"https://colab.research.google.com/github/sandesarikeerthi/ADM-LAB/blob/main/ADMLAB05.ipynb\" target=\"_parent\"><img src=\"https://colab.research.google.com/assets/colab-badge.svg\" alt=\"Open In Colab\"/></a>"
      ]
    },
    {
      "cell_type": "code",
      "source": [
        "from itertools import combinations\n",
        "from collections import defaultdict"
      ],
      "metadata": {
        "id": "uF3JfcJxidQT"
      },
      "execution_count": 17,
      "outputs": []
    },
    {
      "source": [
        "def get_support(transactions, itemset):\n",
        "    \"\"\"Calculate the support of an itemset.\"\"\"\n",
        "    return sum(1 for transaction in transactions if itemset.issubset(transaction)) / len(transactions) # Corrected indentation"
      ],
      "cell_type": "code",
      "metadata": {
        "id": "kl4PS1lJjAg3"
      },
      "execution_count": 19,
      "outputs": []
    },
    {
      "cell_type": "code",
      "source": [
        "def generate_frequent_itemsets(transactions, min_support):\n",
        "      \"\"\"Generate frequent itemsets using the Apriori algorithm.\"\"\"\n",
        "      itemsets = defaultdict(int)\n",
        "      for transaction in transactions:\n",
        "          for item in transaction:\n",
        "              itemsets[frozenset([item])] += 1\n",
        "\n",
        "      num_transactions = len(transactions)\n",
        "      current_frequent_itemsets = {itemset for itemset, count in itemsets.items() if count / num_transactions >= min_support}\n",
        "      all_frequent_itemsets = current_frequent_itemsets.copy()\n",
        "\n",
        "      k = 2\n",
        "      while current_frequent_itemsets:\n",
        "            candidate_itemsets = set()\n",
        "            for itemset1 in current_frequent_itemsets:\n",
        "                for itemset2 in current_frequent_itemsets:\n",
        "                    union_set = itemset1 | itemset2\n",
        "                    if len(union_set) == k:\n",
        "                       candidate_itemsets.add(union_set)\n",
        "\n",
        "            itemsets = defaultdict(int)\n",
        "            for transaction in transactions:\n",
        "                for itemset in candidate_itemsets:\n",
        "                    if itemset.issubset(transaction):\n",
        "                       itemsets[itemset] += 1\n",
        "\n",
        "            current_frequent_itemsets = {itemset for itemset, count in itemsets.items() if count / num_transactions >= min_support}\n",
        "            all_frequent_itemsets |= current_frequent_itemsets\n",
        "            k += 1\n",
        "\n",
        "      return all_frequent_itemsets"
      ],
      "metadata": {
        "id": "FHv5i-mrjCQU"
      },
      "execution_count": 20,
      "outputs": []
    },
    {
      "cell_type": "code",
      "source": [
        "def generate_association_rules(frequent_itemsets, transactions, min_confidence):\n",
        "      \"\"\"Generate association rules from frequent itemsets.\"\"\"\n",
        "      rules = []\n",
        "      num_transactions = len(transactions)\n",
        "\n",
        "      for itemset in frequent_itemsets:\n",
        "          if len(itemset) < 2:\n",
        "             continue\n",
        "\n",
        "             itemset_support = get_support(transactions, itemset)\n",
        "             for i in range(1, len(itemset)):\n",
        "                 for antecedent in combinations(itemset, i):\n",
        "                     antecedent = frozenset(antecedent)\n",
        "                 consequent = itemset - antecedent\n",
        "                 antecedent_support = get_support(transactions, antecedent)\n",
        "                 confidence = itemset_support / antecedent_support if antecedent_support > 0 else 0\n",
        "\n",
        "             if confidence >= min_confidence:\n",
        "                consequent_support = get_support(transactions, consequent)\n",
        "                lift = confidence / consequent_support if consequent_support > 0 else 0\n",
        "                rules.append((antecedent, consequent, itemset_support, confidence, lift))\n",
        "\n",
        "      return rules"
      ],
      "metadata": {
        "id": "Zf5uJ-WWkd26"
      },
      "execution_count": 21,
      "outputs": []
    },
    {
      "cell_type": "code",
      "source": [
        "def main():\n",
        "    transactions = [\n",
        "        {'milk', 'bread', 'butter'},\n",
        "        {'milk', 'bread'},\n",
        "        {'milk', 'butter'},\n",
        "        {'bread', 'butter'},\n",
        "        {'milk', 'bread', 'butter', 'cheese'},\n",
        "        {'bread', 'butter'}\n",
        "     ]\n",
        "\n",
        "    min_support = 0.5  # Minimum support threshold\n",
        "    min_confidence = 0.7  # Minimum confidence threshold\n",
        "\n",
        "    frequent_itemsets = generate_frequent_itemsets(transactions, min_support)\n",
        "    rules = generate_association_rules(frequent_itemsets, transactions, min_confidence)\n",
        "\n",
        "    print(\"Frequent Itemsets:\")\n",
        "    for itemset in frequent_itemsets:\n",
        "        print(itemset)\n",
        "\n",
        "    print(\"\\nAssociation Rules:\")\n",
        "    for antecedent, consequent, support, confidence, lift in rules:\n",
        "            print(f\"{set(antecedent)} -> {set(consequent)} | Support: {support:.2f}, Confidence: {confidence:.2f}, Lift: {lift:.2f}\")\n",
        "\n",
        "# Change 'name' to '_name_'\n",
        "if __name__ == \"_main\": # using the correct special variable __name__\n",
        "    main()"
      ],
      "metadata": {
        "id": "M-DGACVAlev_"
      },
      "execution_count": 25,
      "outputs": []
    }
  ]
}